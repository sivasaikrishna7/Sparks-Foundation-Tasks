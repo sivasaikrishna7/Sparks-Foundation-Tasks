{
  "nbformat": 4,
  "nbformat_minor": 0,
  "metadata": {
    "colab": {
      "name": "Untitled11.ipynb",
      "provenance": [],
      "authorship_tag": "ABX9TyNReQ/aFapRkLrgGv5+z+jk",
      "include_colab_link": true
    },
    "kernelspec": {
      "name": "python3",
      "display_name": "Python 3"
    }
  },
  "cells": [
    {
      "cell_type": "markdown",
      "metadata": {
        "id": "view-in-github",
        "colab_type": "text"
      },
      "source": [
        "<a href=\"https://colab.research.google.com/github/sivasaikrishna7/Sparks-Foundation-Tasks/blob/master/Untitled11.ipynb\" target=\"_parent\"><img src=\"https://colab.research.google.com/assets/colab-badge.svg\" alt=\"Open In Colab\"/></a>"
      ]
    },
    {
      "cell_type": "code",
      "metadata": {
        "id": "wt2Uj2j1vof8",
        "colab_type": "code",
        "colab": {}
      },
      "source": [
        "import pandas as pd\n",
        "import numpy as np\n",
        "import matplotlib.pyplot as plt"
      ],
      "execution_count": 3,
      "outputs": []
    },
    {
      "cell_type": "code",
      "metadata": {
        "id": "8TCjXIiAwB48",
        "colab_type": "code",
        "colab": {}
      },
      "source": [
        "dataset = pd.read_csv('Iris.csv')"
      ],
      "execution_count": 4,
      "outputs": []
    },
    {
      "cell_type": "code",
      "metadata": {
        "id": "IJPsgVQDyEK-",
        "colab_type": "code",
        "colab": {
          "base_uri": "https://localhost:8080/",
          "height": 204
        },
        "outputId": "3bbdae7f-5705-41d6-d372-56ba9b0c9ea8"
      },
      "source": [
        "dataset.head()"
      ],
      "execution_count": 5,
      "outputs": [
        {
          "output_type": "execute_result",
          "data": {
            "text/html": [
              "<div>\n",
              "<style scoped>\n",
              "    .dataframe tbody tr th:only-of-type {\n",
              "        vertical-align: middle;\n",
              "    }\n",
              "\n",
              "    .dataframe tbody tr th {\n",
              "        vertical-align: top;\n",
              "    }\n",
              "\n",
              "    .dataframe thead th {\n",
              "        text-align: right;\n",
              "    }\n",
              "</style>\n",
              "<table border=\"1\" class=\"dataframe\">\n",
              "  <thead>\n",
              "    <tr style=\"text-align: right;\">\n",
              "      <th></th>\n",
              "      <th>Id</th>\n",
              "      <th>SepalLengthCm</th>\n",
              "      <th>SepalWidthCm</th>\n",
              "      <th>PetalLengthCm</th>\n",
              "      <th>PetalWidthCm</th>\n",
              "      <th>Species</th>\n",
              "    </tr>\n",
              "  </thead>\n",
              "  <tbody>\n",
              "    <tr>\n",
              "      <th>0</th>\n",
              "      <td>1</td>\n",
              "      <td>5.1</td>\n",
              "      <td>3.5</td>\n",
              "      <td>1.4</td>\n",
              "      <td>0.2</td>\n",
              "      <td>Iris-setosa</td>\n",
              "    </tr>\n",
              "    <tr>\n",
              "      <th>1</th>\n",
              "      <td>2</td>\n",
              "      <td>4.9</td>\n",
              "      <td>3.0</td>\n",
              "      <td>1.4</td>\n",
              "      <td>0.2</td>\n",
              "      <td>Iris-setosa</td>\n",
              "    </tr>\n",
              "    <tr>\n",
              "      <th>2</th>\n",
              "      <td>3</td>\n",
              "      <td>4.7</td>\n",
              "      <td>3.2</td>\n",
              "      <td>1.3</td>\n",
              "      <td>0.2</td>\n",
              "      <td>Iris-setosa</td>\n",
              "    </tr>\n",
              "    <tr>\n",
              "      <th>3</th>\n",
              "      <td>4</td>\n",
              "      <td>4.6</td>\n",
              "      <td>3.1</td>\n",
              "      <td>1.5</td>\n",
              "      <td>0.2</td>\n",
              "      <td>Iris-setosa</td>\n",
              "    </tr>\n",
              "    <tr>\n",
              "      <th>4</th>\n",
              "      <td>5</td>\n",
              "      <td>5.0</td>\n",
              "      <td>3.6</td>\n",
              "      <td>1.4</td>\n",
              "      <td>0.2</td>\n",
              "      <td>Iris-setosa</td>\n",
              "    </tr>\n",
              "  </tbody>\n",
              "</table>\n",
              "</div>"
            ],
            "text/plain": [
              "   Id  SepalLengthCm  SepalWidthCm  PetalLengthCm  PetalWidthCm      Species\n",
              "0   1            5.1           3.5            1.4           0.2  Iris-setosa\n",
              "1   2            4.9           3.0            1.4           0.2  Iris-setosa\n",
              "2   3            4.7           3.2            1.3           0.2  Iris-setosa\n",
              "3   4            4.6           3.1            1.5           0.2  Iris-setosa\n",
              "4   5            5.0           3.6            1.4           0.2  Iris-setosa"
            ]
          },
          "metadata": {
            "tags": []
          },
          "execution_count": 5
        }
      ]
    },
    {
      "cell_type": "code",
      "metadata": {
        "id": "fJxd1XIoEgg2",
        "colab_type": "code",
        "colab": {}
      },
      "source": [
        "x= dataset.iloc[:,[1,2,3,4]].values\n",
        "y = dataset.iloc[:,-1].values\n"
      ],
      "execution_count": 6,
      "outputs": []
    },
    {
      "cell_type": "code",
      "metadata": {
        "id": "0I0rFhnnJPpo",
        "colab_type": "code",
        "colab": {}
      },
      "source": [
        "from sklearn.preprocessing import LabelEncoder\n",
        "y = LabelEncoder().fit_transform(y)"
      ],
      "execution_count": 7,
      "outputs": []
    },
    {
      "cell_type": "code",
      "metadata": {
        "id": "gdh4rVCUKRF0",
        "colab_type": "code",
        "colab": {
          "base_uri": "https://localhost:8080/",
          "height": 34
        },
        "outputId": "73aa0f01-d2c8-489a-cdec-2f5618a932c8"
      },
      "source": [
        "from sklearn.tree import DecisionTreeClassifier\n",
        "dtree=DecisionTreeClassifier()\n",
        "dtree.fit(x,y)\n",
        "\n",
        "print('Decision Tree Classifer Created')"
      ],
      "execution_count": 8,
      "outputs": [
        {
          "output_type": "stream",
          "text": [
            "Decision Tree Classifer Created\n"
          ],
          "name": "stdout"
        }
      ]
    },
    {
      "cell_type": "code",
      "metadata": {
        "id": "hyKtsS0vKYxT",
        "colab_type": "code",
        "colab": {
          "base_uri": "https://localhost:8080/",
          "height": 136
        },
        "outputId": "aa2ec601-f1e0-4b99-8c64-bfc8dd57a5c7"
      },
      "source": [
        "!pip install pydotplus\n",
        "!apt-get install graphviz -y"
      ],
      "execution_count": 9,
      "outputs": [
        {
          "output_type": "stream",
          "text": [
            "Requirement already satisfied: pydotplus in /usr/local/lib/python3.6/dist-packages (2.0.2)\n",
            "Requirement already satisfied: pyparsing>=2.0.1 in /usr/local/lib/python3.6/dist-packages (from pydotplus) (2.4.7)\n",
            "Reading package lists... Done\n",
            "Building dependency tree       \n",
            "Reading state information... Done\n",
            "graphviz is already the newest version (2.40.1-2).\n",
            "0 upgraded, 0 newly installed, 0 to remove and 11 not upgraded.\n"
          ],
          "name": "stdout"
        }
      ]
    },
    {
      "cell_type": "code",
      "metadata": {
        "id": "D9R0sBfTMAxg",
        "colab_type": "code",
        "colab": {
          "base_uri": "https://localhost:8080/",
          "height": 1000
        },
        "outputId": "0b46b3ef-e960-4995-ef73-ec3ee95df846"
      },
      "source": [
        "from sklearn.model_selection import train_test_split\n",
        "x_train,x_test,y_train,y_test = train_test_split(x,y,test_size = 0.30,random_state=0)\n",
        "print(x_train)\n",
        "\n"
      ],
      "execution_count": 10,
      "outputs": [
        {
          "output_type": "stream",
          "text": [
            "[[5.  2.  3.5 1. ]\n",
            " [6.5 3.  5.5 1.8]\n",
            " [6.7 3.3 5.7 2.5]\n",
            " [6.  2.2 5.  1.5]\n",
            " [6.7 2.5 5.8 1.8]\n",
            " [5.6 2.5 3.9 1.1]\n",
            " [7.7 3.  6.1 2.3]\n",
            " [6.3 3.3 4.7 1.6]\n",
            " [5.5 2.4 3.8 1.1]\n",
            " [6.3 2.7 4.9 1.8]\n",
            " [6.3 2.8 5.1 1.5]\n",
            " [4.9 2.5 4.5 1.7]\n",
            " [6.3 2.5 5.  1.9]\n",
            " [7.  3.2 4.7 1.4]\n",
            " [6.5 3.  5.2 2. ]\n",
            " [6.  3.4 4.5 1.6]\n",
            " [4.8 3.1 1.6 0.2]\n",
            " [5.8 2.7 5.1 1.9]\n",
            " [5.6 2.7 4.2 1.3]\n",
            " [5.6 2.9 3.6 1.3]\n",
            " [5.5 2.5 4.  1.3]\n",
            " [6.1 3.  4.6 1.4]\n",
            " [7.2 3.2 6.  1.8]\n",
            " [5.3 3.7 1.5 0.2]\n",
            " [4.3 3.  1.1 0.1]\n",
            " [6.4 2.7 5.3 1.9]\n",
            " [5.7 3.  4.2 1.2]\n",
            " [5.4 3.4 1.7 0.2]\n",
            " [5.7 4.4 1.5 0.4]\n",
            " [6.9 3.1 4.9 1.5]\n",
            " [4.6 3.1 1.5 0.2]\n",
            " [5.9 3.  5.1 1.8]\n",
            " [5.1 2.5 3.  1.1]\n",
            " [4.6 3.4 1.4 0.3]\n",
            " [6.2 2.2 4.5 1.5]\n",
            " [7.2 3.6 6.1 2.5]\n",
            " [5.7 2.9 4.2 1.3]\n",
            " [4.8 3.  1.4 0.1]\n",
            " [7.1 3.  5.9 2.1]\n",
            " [6.9 3.2 5.7 2.3]\n",
            " [6.5 3.  5.8 2.2]\n",
            " [6.4 2.8 5.6 2.1]\n",
            " [5.1 3.8 1.6 0.2]\n",
            " [4.8 3.4 1.6 0.2]\n",
            " [6.5 3.2 5.1 2. ]\n",
            " [6.7 3.3 5.7 2.1]\n",
            " [4.5 2.3 1.3 0.3]\n",
            " [6.2 3.4 5.4 2.3]\n",
            " [4.9 3.  1.4 0.2]\n",
            " [5.7 2.5 5.  2. ]\n",
            " [6.9 3.1 5.4 2.1]\n",
            " [4.4 3.2 1.3 0.2]\n",
            " [5.  3.6 1.4 0.2]\n",
            " [7.2 3.  5.8 1.6]\n",
            " [5.1 3.5 1.4 0.3]\n",
            " [4.4 3.  1.3 0.2]\n",
            " [5.4 3.9 1.7 0.4]\n",
            " [5.5 2.3 4.  1.3]\n",
            " [6.8 3.2 5.9 2.3]\n",
            " [7.6 3.  6.6 2.1]\n",
            " [5.1 3.5 1.4 0.2]\n",
            " [4.9 3.1 1.5 0.1]\n",
            " [5.2 3.4 1.4 0.2]\n",
            " [5.7 2.8 4.5 1.3]\n",
            " [6.6 3.  4.4 1.4]\n",
            " [5.  3.2 1.2 0.2]\n",
            " [5.1 3.3 1.7 0.5]\n",
            " [6.4 2.9 4.3 1.3]\n",
            " [5.4 3.4 1.5 0.4]\n",
            " [7.7 2.6 6.9 2.3]\n",
            " [4.9 2.4 3.3 1. ]\n",
            " [7.9 3.8 6.4 2. ]\n",
            " [6.7 3.1 4.4 1.4]\n",
            " [5.2 4.1 1.5 0.1]\n",
            " [6.  3.  4.8 1.8]\n",
            " [5.8 4.  1.2 0.2]\n",
            " [7.7 2.8 6.7 2. ]\n",
            " [5.1 3.8 1.5 0.3]\n",
            " [4.7 3.2 1.6 0.2]\n",
            " [7.4 2.8 6.1 1.9]\n",
            " [5.  3.3 1.4 0.2]\n",
            " [6.3 3.4 5.6 2.4]\n",
            " [5.7 2.8 4.1 1.3]\n",
            " [5.8 2.7 3.9 1.2]\n",
            " [5.7 2.6 3.5 1. ]\n",
            " [6.4 3.2 5.3 2.3]\n",
            " [6.7 3.  5.2 2.3]\n",
            " [6.3 2.5 4.9 1.5]\n",
            " [6.7 3.  5.  1.7]\n",
            " [5.  3.  1.6 0.2]\n",
            " [5.5 2.4 3.7 1. ]\n",
            " [6.7 3.1 5.6 2.4]\n",
            " [5.8 2.7 5.1 1.9]\n",
            " [5.1 3.4 1.5 0.2]\n",
            " [6.6 2.9 4.6 1.3]\n",
            " [5.6 3.  4.1 1.3]\n",
            " [5.9 3.2 4.8 1.8]\n",
            " [6.3 2.3 4.4 1.3]\n",
            " [5.5 3.5 1.3 0.2]\n",
            " [5.1 3.7 1.5 0.4]\n",
            " [4.9 3.1 1.5 0.1]\n",
            " [6.3 2.9 5.6 1.8]\n",
            " [5.8 2.7 4.1 1. ]\n",
            " [7.7 3.8 6.7 2.2]\n",
            " [4.6 3.2 1.4 0.2]]\n"
          ],
          "name": "stdout"
        }
      ]
    },
    {
      "cell_type": "code",
      "metadata": {
        "id": "lLlrXVWmdOoM",
        "colab_type": "code",
        "colab": {
          "base_uri": "https://localhost:8080/",
          "height": 119
        },
        "outputId": "b9dd5b1b-0bb7-4609-f2b4-c83f8ac323e1"
      },
      "source": [
        "from sklearn.tree import DecisionTreeClassifier\n",
        "model= DecisionTreeClassifier(max_depth=5,criterion='gini')\n",
        "model.fit(x_train,y_train)"
      ],
      "execution_count": 11,
      "outputs": [
        {
          "output_type": "execute_result",
          "data": {
            "text/plain": [
              "DecisionTreeClassifier(ccp_alpha=0.0, class_weight=None, criterion='gini',\n",
              "                       max_depth=5, max_features=None, max_leaf_nodes=None,\n",
              "                       min_impurity_decrease=0.0, min_impurity_split=None,\n",
              "                       min_samples_leaf=1, min_samples_split=2,\n",
              "                       min_weight_fraction_leaf=0.0, presort='deprecated',\n",
              "                       random_state=None, splitter='best')"
            ]
          },
          "metadata": {
            "tags": []
          },
          "execution_count": 11
        }
      ]
    },
    {
      "cell_type": "code",
      "metadata": {
        "id": "8_38xuowfs1x",
        "colab_type": "code",
        "colab": {
          "base_uri": "https://localhost:8080/",
          "height": 68
        },
        "outputId": "414e4b70-4a82-4be6-fc21-e853e31c89ef"
      },
      "source": [
        "y_train_pred = model.predict(x_train)\n",
        "y_test_pred = model.predict(x_test)\n",
        "from sklearn.metrics import accuracy_score,confusion_matrix\n",
        "confusion_matrix(y_test,y_test_pred)"
      ],
      "execution_count": 12,
      "outputs": [
        {
          "output_type": "execute_result",
          "data": {
            "text/plain": [
              "array([[16,  0,  0],\n",
              "       [ 0, 17,  1],\n",
              "       [ 0,  0, 11]])"
            ]
          },
          "metadata": {
            "tags": []
          },
          "execution_count": 12
        }
      ]
    },
    {
      "cell_type": "code",
      "metadata": {
        "id": "QzFM9CrPghvY",
        "colab_type": "code",
        "colab": {
          "base_uri": "https://localhost:8080/",
          "height": 68
        },
        "outputId": "cd92ed26-1ba7-44c6-c5cc-cda7bb4f262c"
      },
      "source": [
        "confusion_matrix(y_train,y_train_pred)"
      ],
      "execution_count": 13,
      "outputs": [
        {
          "output_type": "execute_result",
          "data": {
            "text/plain": [
              "array([[34,  0,  0],\n",
              "       [ 0, 32,  0],\n",
              "       [ 0,  0, 39]])"
            ]
          },
          "metadata": {
            "tags": []
          },
          "execution_count": 13
        }
      ]
    },
    {
      "cell_type": "code",
      "metadata": {
        "id": "JalN53UngqTm",
        "colab_type": "code",
        "colab": {
          "base_uri": "https://localhost:8080/",
          "height": 34
        },
        "outputId": "ecc80f91-def4-453b-d3ed-2ac84d4cfed0"
      },
      "source": [
        "accuracy_score(y_test,y_test_pred)"
      ],
      "execution_count": 14,
      "outputs": [
        {
          "output_type": "execute_result",
          "data": {
            "text/plain": [
              "0.9777777777777777"
            ]
          },
          "metadata": {
            "tags": []
          },
          "execution_count": 14
        }
      ]
    },
    {
      "cell_type": "code",
      "metadata": {
        "id": "0U-Ypcs7hHoR",
        "colab_type": "code",
        "colab": {
          "base_uri": "https://localhost:8080/",
          "height": 608
        },
        "outputId": "2589d69a-dc4b-4d24-d720-082c02fe477f"
      },
      "source": [
        "from sklearn import tree\n",
        "plt.figure(figsize=(14,10))\n",
        "tree.plot_tree(model,filled=True)\n",
        "plt.title('Decision Tree')"
      ],
      "execution_count": 18,
      "outputs": [
        {
          "output_type": "execute_result",
          "data": {
            "text/plain": [
              "Text(0.5, 1.0, 'Decision Tree')"
            ]
          },
          "metadata": {
            "tags": []
          },
          "execution_count": 18
        },
        {
          "output_type": "display_data",
          "data": {
            "image/png": "[encoded data removed]",
            "text/plain": [
              "<Figure size 1008x720 with 1 Axes>"
            ]
          },
          "metadata": {
            "tags": [],
            "needs_background": "light"
          }
        }
      ]
    }
  ]
}