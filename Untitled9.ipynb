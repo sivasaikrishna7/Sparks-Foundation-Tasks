{
  "nbformat": 4,
  "nbformat_minor": 0,
  "metadata": {
    "colab": {
      "name": "Untitled9.ipynb",
      "provenance": [],
      "authorship_tag": "ABX9TyNlgzcYKE0KIkC4vyUUz4IC",
      "include_colab_link": true
    },
    "kernelspec": {
      "name": "python3",
      "display_name": "Python 3"
    }
  },
  "cells": [
    {
      "cell_type": "markdown",
      "metadata": {
        "id": "view-in-github",
        "colab_type": "text"
      },
      "source": [
        "<a href=\"https://colab.research.google.com/github/sivasaikrishna7/Sparks-Foundation-Tasks/blob/master/Untitled9.ipynb\" target=\"_parent\"><img src=\"https://colab.research.google.com/assets/colab-badge.svg\" alt=\"Open In Colab\"/></a>"
      ]
    },
    {
      "cell_type": "markdown",
      "metadata": {
        "id": "sC6N8610WKgc",
        "colab_type": "text"
      },
      "source": [
        "**IMPORTING LIBRARIES**"
      ]
    },
    {
      "cell_type": "code",
      "metadata": {
        "id": "9a1badJ5Keok",
        "colab_type": "code",
        "colab": {}
      },
      "source": [
        "import pandas as pd\n",
        "import numpy as np\n",
        "import matplotlib.pyplot as plt"
      ],
      "execution_count": 26,
      "outputs": []
    },
    {
      "cell_type": "markdown",
      "metadata": {
        "id": "DBGdMy30WpzY",
        "colab_type": "text"
      },
      "source": [
        "**IMPORTING DATASET**"
      ]
    },
    {
      "cell_type": "code",
      "metadata": {
        "id": "pp1ExucTNOU9",
        "colab_type": "code",
        "colab": {
          "base_uri": "https://localhost:8080/",
          "height": 918
        },
        "outputId": "9a531579-4a70-4c6c-a347-89f68847e93d"
      },
      "source": [
        "dataset = pd.read_csv('task1.csv')\n",
        "X = dataset.iloc[:,:-1].values\n",
        "y = dataset.iloc[:, -1].values\n",
        "print(dataset)\n",
        "print(X)\n",
        "print(y)"
      ],
      "execution_count": 27,
      "outputs": [
        {
          "output_type": "stream",
          "text": [
            "    Hours  Scores\n",
            "0     2.5      21\n",
            "1     5.1      47\n",
            "2     3.2      27\n",
            "3     8.5      75\n",
            "4     3.5      30\n",
            "5     1.5      20\n",
            "6     9.2      88\n",
            "7     5.5      60\n",
            "8     8.3      81\n",
            "9     2.7      25\n",
            "10    7.7      85\n",
            "11    5.9      62\n",
            "12    4.5      41\n",
            "13    3.3      42\n",
            "14    1.1      17\n",
            "15    8.9      95\n",
            "16    2.5      30\n",
            "17    1.9      24\n",
            "18    6.1      67\n",
            "19    7.4      69\n",
            "20    2.7      30\n",
            "21    4.8      54\n",
            "22    3.8      35\n",
            "23    6.9      76\n",
            "24    7.8      86\n",
            "[[2.5]\n",
            " [5.1]\n",
            " [3.2]\n",
            " [8.5]\n",
            " [3.5]\n",
            " [1.5]\n",
            " [9.2]\n",
            " [5.5]\n",
            " [8.3]\n",
            " [2.7]\n",
            " [7.7]\n",
            " [5.9]\n",
            " [4.5]\n",
            " [3.3]\n",
            " [1.1]\n",
            " [8.9]\n",
            " [2.5]\n",
            " [1.9]\n",
            " [6.1]\n",
            " [7.4]\n",
            " [2.7]\n",
            " [4.8]\n",
            " [3.8]\n",
            " [6.9]\n",
            " [7.8]]\n",
            "[21 47 27 75 30 20 88 60 81 25 85 62 41 42 17 95 30 24 67 69 30 54 35 76\n",
            " 86]\n"
          ],
          "name": "stdout"
        }
      ]
    },
    {
      "cell_type": "markdown",
      "metadata": {
        "id": "jyigU27KW8Jt",
        "colab_type": "text"
      },
      "source": [
        "**SLITTING DATASET INTO TRAINING AND TEST SET**"
      ]
    },
    {
      "cell_type": "code",
      "metadata": {
        "id": "VbMsESTGS98J",
        "colab_type": "code",
        "colab": {}
      },
      "source": [
        "from sklearn.model_selection import train_test_split\n",
        "X_train,X_test,y_train,y_test = train_test_split(X,y,test_size = 1/3,random_state = 0)"
      ],
      "execution_count": 28,
      "outputs": []
    },
    {
      "cell_type": "markdown",
      "metadata": {
        "id": "7nWB1U0ZXJuJ",
        "colab_type": "text"
      },
      "source": [
        "**FITTING THE LINEAR REGRESSION MODEL**"
      ]
    },
    {
      "cell_type": "code",
      "metadata": {
        "id": "sZWtmDk6UqFb",
        "colab_type": "code",
        "colab": {
          "base_uri": "https://localhost:8080/",
          "height": 34
        },
        "outputId": "7bd22adf-48e9-4584-948d-4d593dc459b9"
      },
      "source": [
        "from sklearn.linear_model import LinearRegression\n",
        "regressor = LinearRegression()\n",
        "regressor.fit(X_train,y_train)"
      ],
      "execution_count": 29,
      "outputs": [
        {
          "output_type": "execute_result",
          "data": {
            "text/plain": [
              "LinearRegression(copy_X=True, fit_intercept=True, n_jobs=None, normalize=False)"
            ]
          },
          "metadata": {
            "tags": []
          },
          "execution_count": 29
        }
      ]
    },
    {
      "cell_type": "markdown",
      "metadata": {
        "id": "3dgbk8K5XqBk",
        "colab_type": "text"
      },
      "source": [
        "**PREDICTING THE VALUES OF TESTSET AND COMPARING**"
      ]
    },
    {
      "cell_type": "code",
      "metadata": {
        "id": "gJUs8JaIVAZ0",
        "colab_type": "code",
        "colab": {
          "base_uri": "https://localhost:8080/",
          "height": 187
        },
        "outputId": "59744d86-7446-4a5e-a00d-46ab0363343a"
      },
      "source": [
        "y_predict = regressor.predict(X_test)\n",
        "Avp = pd.DataFrame({'Actual':y_test,'predicted' : y_predict})\n",
        "print(Avp)"
      ],
      "execution_count": 30,
      "outputs": [
        {
          "output_type": "stream",
          "text": [
            "   Actual  predicted\n",
            "0      20  17.042892\n",
            "1      27  33.516954\n",
            "2      69  74.217577\n",
            "3      30  26.733516\n",
            "4      62  59.681640\n",
            "5      35  39.331329\n",
            "6      24  20.919142\n",
            "7      86  78.093827\n",
            "8      76  69.372265\n"
          ],
          "name": "stdout"
        }
      ]
    },
    {
      "cell_type": "markdown",
      "metadata": {
        "id": "7gEndHkzY5V5",
        "colab_type": "text"
      },
      "source": [
        "**VISUALISING THE DATA AND PLOTTING THE REGRESSION LINE**"
      ]
    },
    {
      "cell_type": "code",
      "metadata": {
        "id": "dBniFtPJZAaZ",
        "colab_type": "code",
        "colab": {
          "base_uri": "https://localhost:8080/",
          "height": 295
        },
        "outputId": "ad5f56f9-94b3-4073-81c7-e4b544395772"
      },
      "source": [
        "plt.scatter(X_train, y_train, color = 'red')\n",
        "plt.plot(X_train, regressor.predict(X_train), color = 'blue')\n",
        "plt.title('MARKS vs STUDY HOURS (Training set)')\n",
        "plt.xlabel('STUDY HOURS')\n",
        "plt.ylabel('MARKS')\n",
        "plt.show()"
      ],
      "execution_count": 31,
      "outputs": [
        {
          "output_type": "display_data",
          "data": {
            "image/png": "[encoded data removed]",
            "text/plain": [
              "<Figure size 432x288 with 1 Axes>"
            ]
          },
          "metadata": {
            "tags": [],
            "needs_background": "light"
          }
        }
      ]
    },
    {
      "cell_type": "markdown",
      "metadata": {
        "id": "YUC0e4IEcwU7",
        "colab_type": "text"
      },
      "source": [
        "**CALCULATING MEAN ABSOLUTE ERROR**"
      ]
    },
    {
      "cell_type": "code",
      "metadata": {
        "id": "2g8vzqaic5Aq",
        "colab_type": "code",
        "colab": {
          "base_uri": "https://localhost:8080/",
          "height": 34
        },
        "outputId": "f2d3a40c-a120-44db-cda9-90697042e856"
      },
      "source": [
        "from sklearn import metrics\n",
        "print('Mean Absolute Error::',metrics.mean_absolute_error(y_test,y_predict))"
      ],
      "execution_count": 32,
      "outputs": [
        {
          "output_type": "stream",
          "text": [
            "Mean Absolute Error:: 4.691397441397446\n"
          ],
          "name": "stdout"
        }
      ]
    },
    {
      "cell_type": "markdown",
      "metadata": {
        "id": "UqjVbXTmeSFE",
        "colab_type": "text"
      },
      "source": [
        "**PREDICTING Y FOR 8.75 HOURS**"
      ]
    },
    {
      "cell_type": "code",
      "metadata": {
        "id": "CseFUZWeeQLH",
        "colab_type": "code",
        "colab": {
          "base_uri": "https://localhost:8080/",
          "height": 51
        },
        "outputId": "83e1d9e3-27fe-4642-88c5-6bf58512cf20"
      },
      "source": [
        "hours= [[8]]\n",
        "print(\"no.of hours = {}\".format(hours))\n",
        "print(\"predicted score ={}\".format( regressor.predict(hours)))"
      ],
      "execution_count": 35,
      "outputs": [
        {
          "output_type": "stream",
          "text": [
            "no.of hours = [[8]]\n",
            "predicted score =[80.03195228]\n"
          ],
          "name": "stdout"
        }
      ]
    }
  ]
}